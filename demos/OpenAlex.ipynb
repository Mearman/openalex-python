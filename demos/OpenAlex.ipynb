{
 "cells": [
  {
   "cell_type": "markdown",
   "metadata": {},
   "source": [
    "# Setup\n"
   ]
  },
  {
   "cell_type": "code",
   "execution_count": null,
   "metadata": {
    "ExecuteTime": {
     "end_time": "2024-01-20T17:03:08.479690Z",
     "start_time": "2024-01-20T17:02:58.319095Z"
    },
    "colab": {
     "base_uri": "https://localhost:8080/"
    },
    "id": "XSj5sJdztUc5",
    "outputId": "2d6e6f8b-691f-4988-8c53-b6fab18e87f2",
    "tags": []
   },
   "outputs": [],
   "source": [
    "# @title Setup\n",
    "%pip install --upgrade pip\n",
    "%pip install --upgrade --no-cache-dir \"git+https://github.com/Mearman/openalex-python.git\"\n",
    "%pip install pandas altair tabulate matplotlib seaborn\n",
    "\n",
    "import altair as alt\n",
    "import pandas as pd\n",
    "\n",
    "import openalex_api\n",
    "\n",
    "configuration = openalex_api.Configuration(\n",
    "\thost=\"https://api.openalex.org\"\n",
    ")\n",
    "authors_api = openalex_api.AuthorsApi(openalex_api.ApiClient(configuration))\n",
    "works_api = openalex_api.WorksApi(openalex_api.ApiClient(configuration))\n",
    "concepts_api = openalex_api.ConceptsApi(openalex_api.ApiClient(configuration))\n",
    "institutions_api = openalex_api.InstitutionsApi(openalex_api.ApiClient(configuration))\n",
    "sources_api = openalex_api.SourcesApi(openalex_api.ApiClient(configuration))\n",
    "publishers_api = openalex_api.PublishersApi(openalex_api.ApiClient(configuration))\n",
    "funders_api = openalex_api.FundersApi(openalex_api.ApiClient(configuration))\n",
    "info_api = openalex_api.InfoApi(openalex_api.ApiClient(configuration))"
   ]
  },
  {
   "cell_type": "markdown",
   "metadata": {
    "collapsed": false
   },
   "source": [
    "# [OpenAlex Python](https://github.com/Mearman/openalex-python) API Example\n",
    "\n",
    "Documentation: https://github.com/Mearman/openalex-python\n"
   ]
  },
  {
   "cell_type": "markdown",
   "metadata": {
    "collapsed": false
   },
   "source": [
    "## Introduction\n",
    "\n",
    "This notebook demonstrates how to use an OpenAlex Python API Client to query the OpenAlex database and generate visualizations.\n",
    "\n",
    "The OpenAlex database is a database of academic publications and their citations.\n",
    "\n",
    "The OpenAlex API is a REST API that allows you to query the OpenAlex database. The Documentation for the API can be found here: https://docs.openalex.org/\n",
    "\n",
    "The OpenAlex Python API Client is a Python package that makes it easier to use the OpenAlex API. The package can be found here: https://github.com/Mearman/openalex-python\n",
    "\n",
    "The specification from which the OpenAlex Python API Client was generated can be found here: https://github.com/Mearman/openalex-api-spec\n",
    "\n",
    "An explorer for the REST API can be found here: https://mearman.github.io/openalex-swagger-ui-react/\n"
   ]
  },
  {
   "cell_type": "markdown",
   "metadata": {},
   "source": [
    "### [OpenAlex API documentation](https://docs.openalex.org/)\n",
    "\n",
    "#### Overview\n",
    "\n",
    "<!-- https://github.com/ourresearch/openalex-docs/blob/main/.gitbook/assets/OpenAlex-logo-5.png -->\n",
    "<!-- https://github.com/ourresearch/openalex-docs/blob/main/.gitbook/assets/openalex_logo_text_transparent_20240117.png -->\n",
    "\n",
    "<img src=\"https://raw.githubusercontent.com/ourresearch/openalex-docs/main/.gitbook/assets/openalex_logo_text_transparent_20240117.png\" style=\"background-color:white\">\n",
    "\n",
    "[**OpenAlex**](https://openalex.org) is a fully open catalog of the global research system. It's named after the [ancient Library of Alexandria](https://en.wikipedia.org/wiki/Library_of_Alexandria) and made by the nonprofit [OurResearch](https://ourresearch.org/).\n",
    "\n",
    "This is the technical documentation for the **OpenAlex API.** Here, you can learn how to set up your code to access OpenAlex's data. If you want to explore the data as a human, you may be more interested in [**OpenAlex Web**](https://help.openalex.org)**.**\n",
    "\n",
    "#### Data[](https://docs.openalex.org//#data)\n",
    "\n",
    "The OpenAlex dataset describes scholarly [_entities_](https://docs.openalex.org/api-entities/entities-overview) and how those entities are connected to each other. Types of entities include [works](https://docs.openalex.org/api-entities/works), [authors](https://docs.openalex.org/api-entities/authors), [sources](https://docs.openalex.org/api-entities/sources), [institutions](https://docs.openalex.org/api-entities/institutions), [concepts](https://docs.openalex.org/api-entities/concepts), [publishers](https://docs.openalex.org/api-entities/publishers), and [funders](https://docs.openalex.org/api-entities/funders).\n",
    "\n",
    "Together, these make a huge web (or more technically, heterogeneous directed [graph](https://en.wikipedia.org/wiki/Graph_theory)) of hundreds of millions of entities and billions of connections between them all.\n",
    "\n",
    "#### Access[](https://docs.openalex.org//#access)\n",
    "\n",
    "The API is the primary way to get OpenAlex data. It's free and requires no authentication. The daily limit for API calls is 100,000 requests per user per day. For best performance, [add your email](https://docs.openalex.org/how-to-use-the-api/rate-limits-and-authentication#the-polite-pool) to all API requests, like `mailto=example@domain.com`. [Learn more](https://docs.openalex.org/how-to-use-the-api/api-overview)\n",
    "\n",
    "There is also a complete database snapshot available to download. [Learn more about the data snapshot here.](https://docs.openalex.org/download-all-data/openalex-snapshot)\n",
    "\n",
    "The API has a limit of 100,000 calls per day, and the snapshot is updated monthly. If you need a higher limit, or more frequent updates, please look into [**OpenAlex Premium.**](https://openalex.org/pricing)\n",
    "\n",
    "#### Why OpenAlex?[](https://docs.openalex.org//#why-openalex)\n",
    "\n",
    "OpenAlex offers an open replacement for industry-standard scientific knowledge bases like Elsevier's Scopus and Clarivate's Web of Science. [Compared to](https://openalex.org/about#comparison) these paywalled services, OpenAlex offers significant advantages in terms of inclusivity, affordability, and avaliability.\n",
    "\n",
    "Many people and organizations have already found great value using OpenAlex. Have a look at the [Testimonials](https://openalex.org/testimonials) to hear what they've said!\n",
    "\n",
    "#### Contact[](https://docs.openalex.org//#contact)\n",
    "\n",
    "For tech support and bug reports, please visit the [help page](https://openalex.org/help). You can also join the [OpenAlex user group](https://groups.google.com/g/openalex-users), and follow on [Twitter (@OpenAlex_org)](https://twitter.com/openalex_org) and [Mastodon](https://mastodon.social/@OpenAlex).\n",
    "\n",
    "#### Citation[](https://docs.openalex.org//#citation)\n",
    "\n",
    "If you use OpenAlex in research, please cite [this paper](https://arxiv.org/abs/2205.01833):\n",
    "\n",
    "> Priem, J., Piwowar, H., & Orr, R. (2022). _OpenAlex: A fully-open index of scholarly works, authors, venues, institutions, and concepts_. ArXiv. https://arxiv.org/abs/2205.01833\n"
   ]
  },
  {
   "cell_type": "markdown",
   "metadata": {},
   "source": [
    "### [Entities](https://docs.openalex.org/)\n",
    "\n",
    "The OpenAlex dataset describes scholarly _entities_ and how those entities are connected to each other. Together, these make a huge web (or more technically, heterogeneous directed [graph](https://en.wikipedia.org/wiki/Graph_theory)) of hundreds of millions of entities and billions of connections between them all.\n",
    "\n",
    "<figure><img src=\"https://raw.githubusercontent.com/ourresearch/openalex-docs/main/.gitbook/assets/entities.png\" alt=\"Entity relation diagram for OpenAlex\"><figcaption></figcaption></figure>\n",
    "Learn more about the OpenAlex entities:\n",
    "\n",
    "- [Works](https://docs.openalex.org/api-entities/works): Scholarly documents like journal articles, books, datasets, and theses\n",
    "- [Authors](https://docs.openalex.org/api-entities/authors): People who create works\n",
    "- [Sources](https://docs.openalex.org/api-entities/sources): Where works are hosted (such as journals, conferences, and repositories)\n",
    "- [Institutions](https://docs.openalex.org/api-entities/institutions): Universities and other organizations to which authors claim affiliations\n",
    "- [Concepts](https://docs.openalex.org/api-entities/concepts): Topics assigned to works\n",
    "- [Publishers](https://docs.openalex.org/api-entities/publishers): Companies and organizations that distribute works\n",
    "- [Funders](https://docs.openalex.org/api-entities/funders): Organizations that fund research\n",
    "- [Geo](https://docs.openalex.org/api-entities/geo): Where things are in the world\n"
   ]
  },
  {
   "cell_type": "markdown",
   "metadata": {},
   "source": [
    "## [OpenAlex API Tutorial Notebooks](https://github.com/ourresearch/openalex-api-tutorials)\n",
    "\n",
    "- getting-started\n",
    "\n",
    "  - get-random-entity:\n",
    "    - [![Binder](https://mybinder.org/badge_logo.svg)](https://mybinder.org/v2/gh/ourresearch/openalex-api-tutorials/main?filepath=notebooks/getting-started/get-random-entity.ipynb) [![Open All Collab](https://colab.research.google.com/assets/colab-badge.svg)](https://colab.research.google.com/github/ourresearch/openalex-api-tutorials/blob/main/notebooks/getting-started/get-random-entity.ipynb) [![Deepnote](https://deepnote.com/buttons/launch-in-deepnote-small.svg)](https://www.deepnote.com/launch?url=https://www.github.com/ourresearch/openalex-api-tutorials/blob/main/notebooks/getting-started/get-random-entity.ipynb)\n",
    "  - paging\n",
    "    - [![Binder](https://mybinder.org/badge_logo.svg)](https://mybinder.org/v2/gh/ourresearch/openalex-api-tutorials/main?filepath=notebooks/getting-started/paging.ipynb) [![Open All Collab](https://colab.research.google.com/assets/colab-badge.svg)](https://colab.research.google.com/github/ourresearch/openalex-api-tutorials/blob/main/notebooks/getting-started/paging.ipynb) [![Deepnote](https://deepnote.com/buttons/launch-in-deepnote-small.svg)](https://www.deepnote.com/launch?url=https://www.github.com/ourresearch/openalex-api-tutorials/blob/main/notebooks/getting-started/paging.ipynb)\n",
    "  - premium\n",
    "    - [![Binder](https://mybinder.org/badge_logo.svg)](https://mybinder.org/v2/gh/ourresearch/openalex-api-tutorials/main?filepath=notebooks/getting-started/premium.ipynb) [![Open All Collab](https://colab.research.google.com/assets/colab-badge.svg)](https://colab.research.google.com/github/ourresearch/openalex-api-tutorials/blob/main/notebooks/getting-started/premium.ipynb) [![Deepnote](https://deepnote.com/buttons/launch-in-deepnote-small.svg)](https://www.deepnote.com/launch?url=https://www.github.com/ourresearch/openalex-api-tutorials/blob/main/notebooks/getting-started/premium.ipynb)\n",
    "\n",
    "- authors:\n",
    "\n",
    "  - hirsch index:\n",
    "    - [![Binder](https://mybinder.org/badge_logo.svg)](https://mybinder.org/v2/gh/ourresearch/openalex-api-tutorials/main?filepath=notebooks/authors/hirsch-index.ipynb) [![Open All Collab](https://colab.research.google.com/assets/colab-badge.svg)](https://colab.research.google.com/github/ourresearch/openalex-api-tutorials/blob/main/notebooks/authors/hirsch-index.ipynb) [![Deepnote](https://deepnote.com/buttons/launch-in-deepnote-small.svg)](https://www.deepnote.com/launch?url=https://www.github.com/ourresearch/openalex-api-tutorials/blob/main/notebooks/authors/hirsch-index.ipynb)\n",
    "\n",
    "- works\n",
    "\n",
    "  - openalex works:\n",
    "    - [![Binder](https://mybinder.org/badge_logo.svg)](https://mybinder.org/v2/gh/ourresearch/openalex-api-tutorials/main?filepath=notebooks/openalex_works/openalex_works.ipynb) [![Open All Collab](https://colab.research.google.com/assets/colab-badge.svg)](https://colab.research.google.com/github/ourresearch/openalex-api-tutorials/blob/main/notebooks/openalex_works/openalex_works.ipynb) [![Deepnote](https://deepnote.com/buttons/launch-in-deepnote-small.svg)](https://www.deepnote.com/launch?url=https://www.github.com/ourresearch/openalex-api-tutorials/blob/main/notebooks/openalex_works/openalex_works.ipynb)\n",
    "\n",
    "- institutions:\n",
    "  - japan sources:\n",
    "    - [![Binder](https://mybinder.org/badge_logo.svg)](https://mybinder.org/v2/gh/ourresearch/openalex-api-tutorials/main?filepath=notebooks/institutions/japan_sources.ipynb) [![Open All Collab](https://colab.research.google.com/assets/colab-badge.svg)](https://colab.research.google.com/github/ourresearch/openalex-api-tutorials/blob/main/notebooks/institutions/japan_sources.ipynb) [![Deepnote](https://deepnote.com/buttons/launch-in-deepnote-small.svg)](https://www.deepnote.com/launch?url=https://www.github.com/ourresearch/openalex-api-tutorials/blob/main/notebooks/institutions/japan_sources.ipynb)\n",
    "  - oa percentage\n",
    "    - [![Binder](https://mybinder.org/badge_logo.svg)](https://mybinder.org/v2/gh/ourresearch/openalex-api-tutorials/main?filepath=notebooks/institutions/oa-percentage.ipynb) [![Open All Collab](https://colab.research.google.com/assets/colab-badge.svg)](https://colab.research.google.com/github/ourresearch/openalex-api-tutorials/blob/main/notebooks/institutions/oa-percentage.ipynb) [![Deepnote](https://deepnote.com/buttons/launch-in-deepnote-small.svg)](https://www.deepnote.com/launch?url=https://www.github.com/ourresearch/openalex-api-tutorials/blob/main/notebooks/institutions/oa-percentage.ipynb)\n",
    "  - uw collaborators:\n",
    "    - [![Binder](https://mybinder.org/badge_logo.svg)](https://mybinder.org/v2/gh/ourresearch/openalex-api-tutorials/main?filepath=notebooks/institutions/uw-collaborators.ipynb) [![Open All Collab](https://colab.research.google.com/assets/colab-badge.svg)](https://colab.research.google.com/github/ourresearch/openalex-api-tutorials/blob/main/notebooks/institutions/uw-collaborators.ipynb) [![Deepnote](https://deepnote.com/buttons/launch-in-deepnote-small.svg)](https://www.deepnote.com/launch?url=https://www.github.com/ourresearch/openalex-api-tutorials/blob/main/notebooks/institutions/uw-collaborators.ipynb)\n",
    "  - uw collaborators copy:\n",
    "    - [![Binder](https://mybinder.org/badge_logo.svg)](https://mybinder.org/v2/gh/ourresearch/openalex-api-tutorials/main?filepath=notebooks/institutions/uw-collaborators%20copy.ipynb) [![Open All Collab](https://colab.research.google.com/assets/colab-badge.svg)](https://colab.research.google.com/github/ourresearch/openalex-api-tutorials/blob/main/notebooks/institutions/uw-collaborators%20copy.ipynb) [![Deepnote](https://deepnote.com/buttons/launch-in-deepnote-small.svg)](https://www.deepnote.com/launch?url=https://www.github.com/ourresearch/openalex-api-tutorials/blob/main/notebooks/institutions/uw-collaborators%20copy.ipynb)\n",
    "- data questions\n",
    "  - counts within country\n",
    "    - [![Binder](https://mybinder.org/badge_logo.svg)](https://mybinder.org/v2/gh/ourresearch/openalex-api-tutorials/main?filepath=notebooks/data_questions/counts_within_country.ipynb) [![Open All Collab](https://colab.research.google.com/assets/colab-badge.svg)](https://colab.research.google.com/github/ourresearch/openalex-api-tutorials/blob/main/notebooks/data_questions/counts_within_country.ipynb) [![Deepnote](https://deepnote.com/buttons/launch-in-deepnote-small.svg)](https://www.deepnote.com/launch?url=https://www.github.com/ourresearch/openalex-api-tutorials/blob/main/notebooks/data_questions/counts_within_country.ipynb)\n"
   ]
  },
  {
   "cell_type": "markdown",
   "metadata": {},
   "source": [
    "## [OpenAlex API Python Client](https://github.com/Mearman/openalex-python)\n",
    "\n",
    "This is a Python client for the OpenAlex API. It was generated from the reverse-engineered [OpenAlex API specification](https://github.com/Mearman/openalex-api-spec).\n",
    "\n",
    "The API specifications and derived software packages and documentation is in no way affiliated with OpenAlex or OurResearch and is not an official OpenAlex product.\n",
    "This is an open-source project maintained by [Joseph Mearman](https://github.com/Mearman) and is supplied as-is with no warranty.\n",
    "\n",
    "For any questions or issues, please [open an issue](https://github.com/Mearman/openalex-api-spec/issues/new).\n",
    "\n",
    "To contribute, please fork and [open a pull request](https://github.com/Mearman/openalex-api-spec/compare).\n",
    "\n",
    "If you have found the OpenAlex data useful, don't forget to cite the [OpenAlex paper](https://arxiv.org/abs/2205.01833).\n"
   ]
  },
  {
   "cell_type": "markdown",
   "metadata": {},
   "source": [
    "## API Entities\n"
   ]
  },
  {
   "cell_type": "markdown",
   "metadata": {},
   "source": [
    "### [Works](https://docs.openalex.org/api-entities/works)\n",
    "\n",
    "Works are scholarly documents like journal articles, books, datasets, and theses.\n",
    "OpenAlex indexes over 240M works, with about 50,000 added daily.\n",
    "You can access a work in the OpenAlex API like this:\n",
    "\n",
    "- Get a list of OpenAlex works: `https://api.openalex.org/works`\n",
    "\n",
    "That will return a list of [Work](https://docs.openalex.org/api-entities/works/work-object) object, describing everything OpenAlex knows about each work. We collect new works from many sources, including Crossref, PubMed, institutional and discipline-specific repositories (eg, `arXiv`).\n",
    "Many older works come from the now-defunct Microsoft Academic Graph (MAG).\n",
    "Works are linked to other works via the [`referenced_works`](https://docs.openalex.org/api-entities/works/work-object#referenced_works) (outgoing citations), [`cited_by_api_url`](https://docs.openalex.org/api-entities/works/work-object#cited_by_api_url) (incoming citations), and [`related_works`](https://docs.openalex.org/api-entities/works/work-object#related_works) properties.\n"
   ]
  },
  {
   "cell_type": "markdown",
   "metadata": {},
   "source": [
    "#### [Get a single Work](https://docs.openalex.org/api-entities/works/get-a-single-work)\n"
   ]
  },
  {
   "cell_type": "code",
   "execution_count": null,
   "metadata": {
    "ExecuteTime": {
     "end_time": "2024-01-20T17:03:08.481409Z",
     "start_time": "2024-01-20T17:03:07.019535Z"
    }
   },
   "outputs": [],
   "source": [
    "# Define the ID of the work to retrieve\n",
    "id = \"W2741809807\"  # @param\n",
    "\n",
    "# Retrieve the work using the works_api\n",
    "work = works_api.get_work(id=id)\n",
    "\n",
    "# Print the attributes of the work object\n",
    "for key in work.__dict__.keys():\n",
    "    # if value is not None:\n",
    "    value = getattr(work, key)\n",
    "    if value is not None:\n",
    "        print(f\"{key}:\\t{value}\")"
   ]
  },
  {
   "cell_type": "markdown",
   "metadata": {},
   "source": [
    "##### Extracting attributes from an entity\n"
   ]
  },
  {
   "cell_type": "code",
   "execution_count": null,
   "metadata": {
    "ExecuteTime": {
     "end_time": "2024-01-20T17:03:08.481578Z",
     "start_time": "2024-01-20T17:03:07.587825Z"
    }
   },
   "outputs": [],
   "source": [
    "# within that work object there is an ids object which contains all of the IDs from various sources\n",
    "work_ids = work.ids\n",
    "\n",
    "print(\"Work IDs:\\n\")\n",
    "for key in work_ids.__dict__.keys():\n",
    "    print(f\"{key}:\\t{getattr(work_ids, key)}\")"
   ]
  },
  {
   "cell_type": "markdown",
   "metadata": {},
   "source": [
    "##### Searching by external ID\n"
   ]
  },
  {
   "cell_type": "code",
   "execution_count": null,
   "metadata": {
    "ExecuteTime": {
     "end_time": "2024-01-20T17:03:08.481727Z",
     "start_time": "2024-01-20T17:03:07.591099Z"
    }
   },
   "outputs": [],
   "source": [
    "print(\"Original search result:\")\n",
    "print(f\"\\tOA\\t{work.ids.openalex}\")\n",
    "print(f\"\\tDOI\\t{work.ids.doi}\")\n",
    "print(f\"\\tTitle\\t{work.title}\")\n",
    "\n",
    "# it is also possible to search OpenAlex by \"external\" IDs, for example DOI\n",
    "work_searched_by_doi = works_api.get_work(work.ids.doi)\n",
    "print(\"Work searched by DOI:\")\n",
    "print(f\"\\tOA\\t{work_searched_by_doi.ids.openalex}\")\n",
    "print(f\"\\tDOI\\t{work_searched_by_doi.ids.doi}\")\n",
    "print(f\"\\tTitle\\t{work_searched_by_doi.title}\")"
   ]
  },
  {
   "cell_type": "markdown",
   "metadata": {},
   "source": [
    "##### Selecting fields of interest\n",
    "\n",
    "When querying the API, you can select which fields you want to receive in the response. This can be useful if you only need a few fields, or if you want to reduce the size of the response. See [here](https://docs.openalex.org/how-to-use-the-api/get-lists-of-entities/select-fields) for more information.\n"
   ]
  },
  {
   "cell_type": "code",
   "execution_count": null,
   "metadata": {
    "ExecuteTime": {
     "end_time": "2024-01-20T17:03:08.482248Z",
     "start_time": "2024-01-20T17:03:07.758953Z"
    }
   },
   "outputs": [],
   "source": [
    "# querying for just the, id, title, authorships, year of publication, and external IDs\n",
    "work_with_selected_fields = works_api.get_work(\n",
    "    work.id,  # re-using the work ID from above\n",
    "    select=[\n",
    "        \"id\",\n",
    "        \"title\",\n",
    "        \"authorships\",\n",
    "        \"publication_year\",\n",
    "        \"ids\"\n",
    "    ]\n",
    ")"
   ]
  },
  {
   "cell_type": "code",
   "execution_count": null,
   "metadata": {},
   "outputs": [],
   "source": [
    "# Create a dataframe from the work_with_selected_fields data\n",
    "df = pd.DataFrame(\n",
    "    work_with_selected_fields,\n",
    "    columns=[\"key\", \"value\"]\n",
    ")\n",
    "\n",
    "# Set the \"key\" column as the index of the dataframe\n",
    "df = df.set_index(\"key\")\n",
    "\n",
    "# Drop rows with missing values\n",
    "df = df.dropna()\n",
    "\n",
    "# Display the dataframe\n",
    "display(df)"
   ]
  },
  {
   "cell_type": "markdown",
   "metadata": {},
   "source": [
    "#### [Get lists of works](https://docs.openalex.org/api-entities/works/get-lists-of-works)\n",
    "\n",
    "When querying for multiple works, the query will result in an object with `results`, `meta` and `group_by`.\n",
    "\n",
    "- `results` is a list of the entity that you queried for.\n",
    "- `meta` contains information about the query, such as the number of results, the number of pages, and the number of results per page.\n",
    "- `group_by` contains information about the groups that were created by the query. This is only returned if you used the `group_by` parameter in your query.\n"
   ]
  },
  {
   "cell_type": "code",
   "execution_count": null,
   "metadata": {
    "ExecuteTime": {
     "end_time": "2024-01-20T17:03:08.482661Z",
     "start_time": "2024-01-20T17:03:08.092966Z"
    }
   },
   "outputs": [],
   "source": [
    "\n",
    "# Retrieve a list of works using the works_api.get_works() method.\n",
    "get_works_response = works_api.get_works()"
   ]
  },
  {
   "cell_type": "code",
   "execution_count": null,
   "metadata": {
    "ExecuteTime": {
     "end_time": "2024-01-20T17:03:08.482979Z",
     "start_time": "2024-01-20T17:03:08.452205Z"
    }
   },
   "outputs": [],
   "source": [
    "# Display the meta information of the 'get_works_response' object\n",
    "display(get_works_response.meta)"
   ]
  },
  {
   "cell_type": "code",
   "execution_count": null,
   "metadata": {
    "ExecuteTime": {
     "end_time": "2024-01-20T17:03:08.530916Z",
     "start_time": "2024-01-20T17:03:08.454599Z"
    }
   },
   "outputs": [],
   "source": [
    "# iterate over the `results` of the 'get_works_response' object\n",
    "for work in get_works_response.results:\n",
    "    # access and print the id and title attributes of the work object\n",
    "    id = work[\"id\"]\n",
    "    title = work[\"title\"]\n",
    "    print(f\"{id}\\t{work}\")"
   ]
  },
  {
   "cell_type": "markdown",
   "metadata": {},
   "source": [
    "#### Pagination\n",
    "\n",
    "When querying for multiple works, the results will be paginated. By default, the API will return 25 results per page. You can change this by using the `per-page` parameter in your query. You can also change the page that you are viewing by using the `page` parameter in your query.\n"
   ]
  },
  {
   "cell_type": "code",
   "execution_count": null,
   "metadata": {
    "ExecuteTime": {
     "end_time": "2024-01-20T17:06:06.601283Z",
     "start_time": "2024-01-20T17:06:06.019237Z"
    }
   },
   "outputs": [],
   "source": [
    "# Retrieve a list of works using the works_api.get_works() method.\n",
    "get_works_result = works_api.get_works()\n",
    "# Get the meta information of the 'get_works_result' object\n",
    "works_result_meta = get_works_result.meta\n",
    "# Get the number of results per page\n",
    "result_meta_per_page = works_result_meta.per_page\n",
    "\n",
    "print(f\"Per page:\\t{result_meta_per_page}\")"
   ]
  },
  {
   "cell_type": "markdown",
   "metadata": {},
   "source": [
    "##### Using the `per-page` parameter\n"
   ]
  },
  {
   "cell_type": "code",
   "execution_count": null,
   "metadata": {
    "is_executing": true
   },
   "outputs": [],
   "source": [
    "# Retrieve a list of works using the works_api.get_works() method.\n",
    "get_works_result = works_api.get_works(\n",
    "    # set the number of results per page to 5\n",
    "    per_page=5,\n",
    ").results\n",
    "\n",
    "# Get the IDs of the works in the 'get_works_result' object\n",
    "ids = [work[\"ids\"][\"openalex\"] for work in get_works_result]\n",
    "\n",
    "print(ids)"
   ]
  },
  {
   "cell_type": "markdown",
   "metadata": {},
   "source": [
    "##### Using the `page` parameter\n"
   ]
  },
  {
   "cell_type": "code",
   "execution_count": null,
   "metadata": {
    "ExecuteTime": {
     "end_time": "2024-01-20T17:06:16.406606Z",
     "start_time": "2024-01-20T17:06:15.973591Z"
    }
   },
   "outputs": [],
   "source": [
    "# Retrieve a list of works using the works_api.get_works() method.\n",
    "get_works_result = works_api.get_works(\n",
    "    # set the number of results per page to 10\n",
    "    per_page=10,\n",
    "    # set the page to 1\n",
    "    page=1\n",
    ").results\n",
    "\n",
    "# Get the IDs of the works in the 'get_works_result' object\n",
    "ids = [work[\"ids\"][\"openalex\"] for work in get_works_result]\n",
    "\n",
    "print(ids)"
   ]
  },
  {
   "cell_type": "markdown",
   "metadata": {},
   "source": [
    "##### A function to get all pages of a query"
   ]
  },
  {
   "cell_type": "code",
   "execution_count": null,
   "metadata": {
    "ExecuteTime": {
     "end_time": "2024-01-20T17:03:10.046183Z",
     "start_time": "2024-01-20T17:03:09.459459Z"
    }
   },
   "outputs": [],
   "source": [
    "# @title A function to retrieve all results from a paginated API response\n",
    "import math\n",
    "\n",
    "\n",
    "def get_all_results(api_response):\n",
    "    # Get the meta information of the 'api_response' object\n",
    "    meta = api_response.meta\n",
    "    # Get the number of results per page\n",
    "    per_page = meta.per_page\n",
    "    # Get the total number of results\n",
    "    count = meta.count\n",
    "    # Get the current page\n",
    "    page = meta.page\n",
    "\n",
    "    total_pages = math.ceil(count / per_page)\n",
    "\n",
    "    # Create an empty list to store the results\n",
    "    results = []\n",
    "\n",
    "    # Iterate over the pages\n",
    "    for page in range(1, total_pages + 1):\n",
    "        print(f\"Retrieving page {page} of {total_pages}\")\n",
    "        # Retrieve the results for the current page\n",
    "        api_response = works_api.get_works(\n",
    "            per_page=per_page,\n",
    "            page=page\n",
    "        )\n",
    "        # Append the results to the list\n",
    "        results.extend(api_response.results)\n",
    "    return results"
   ]
  },
  {
   "cell_type": "code",
   "execution_count": null,
   "metadata": {},
   "outputs": [],
   "source": []
  },
  {
   "cell_type": "markdown",
   "metadata": {
    "collapsed": false
   },
   "source": [
    "### [Authors](https://docs.openalex.org/api-entities/authors)\n"
   ]
  },
  {
   "cell_type": "code",
   "execution_count": null,
   "metadata": {
    "ExecuteTime": {
     "end_time": "2024-01-20T17:03:11.874298Z",
     "start_time": "2024-01-20T17:03:09.882426Z"
    },
    "collapsed": false
   },
   "outputs": [],
   "source": [
    "authors = authors_api.get_authors(\n",
    "    per_page=100,\n",
    "    page=1,\n",
    "    sort=\"cited_by_count:desc\"\n",
    ").results\n",
    "display(pd.DataFrame(authors))"
   ]
  },
  {
   "cell_type": "markdown",
   "metadata": {
    "collapsed": false
   },
   "source": [
    "### Author Counts by Year\n"
   ]
  },
  {
   "cell_type": "code",
   "execution_count": null,
   "metadata": {
    "ExecuteTime": {
     "end_time": "2024-01-20T17:03:11.874728Z",
     "start_time": "2024-01-20T17:03:11.512474Z"
    },
    "collapsed": false
   },
   "outputs": [],
   "source": [
    "author_counts_by_year = pd.DataFrame(\n",
    "    [{\n",
    "        \"display_name\": author[\"display_name\"],\n",
    "        \"id\": author[\"ids\"][\"openalex\"].split(\"/\")[-1],\n",
    "        \"country_code\": author[\"last_known_institution\"][\"country_code\"] if author[\"last_known_institution\"] else None,\n",
    "        \"year\": entry[\"year\"],\n",
    "        \"cited_by_count\": entry[\"cited_by_count\"],\n",
    "        \"works_count\": entry[\"works_count\"],\n",
    "        \"name_and_id\": f\"{author['display_name']} ({author['ids']['openalex'].split('/')[-1]})\",\n",
    "    } for author in authors for entry in author[\"counts_by_year\"]],\n",
    ")\n",
    "display(author_counts_by_year)"
   ]
  },
  {
   "cell_type": "markdown",
   "metadata": {
    "collapsed": false
   },
   "source": [
    "#### Filter out current year\n"
   ]
  },
  {
   "cell_type": "code",
   "execution_count": null,
   "metadata": {
    "ExecuteTime": {
     "end_time": "2024-01-20T17:03:11.874825Z",
     "start_time": "2024-01-20T17:03:11.515354Z"
    },
    "collapsed": false
   },
   "outputs": [],
   "source": [
    "# filter out current year\n",
    "author_counts_by_year = author_counts_by_year[author_counts_by_year[\"year\"] < 2024]"
   ]
  },
  {
   "cell_type": "markdown",
   "metadata": {
    "collapsed": false
   },
   "source": [
    "#### Plot Citations vs Year\n"
   ]
  },
  {
   "cell_type": "code",
   "execution_count": null,
   "metadata": {
    "ExecuteTime": {
     "end_time": "2024-01-20T17:03:11.876233Z",
     "start_time": "2024-01-20T17:03:11.518473Z"
    },
    "collapsed": false
   },
   "outputs": [],
   "source": [
    "# plot with altair, marking each year on the x axis\n",
    "plot_vitations_vs_year = alt.Chart(\n",
    "    author_counts_by_year[\n",
    "        # \tfilter out zero values\n",
    "        (author_counts_by_year[\"cited_by_count\"] > 0) & (\n",
    "            author_counts_by_year[\"works_count\"] > 0)\n",
    "    ]\n",
    ").mark_line().encode(\n",
    "    alt.X(\n",
    "        \"year:O\",\n",
    "        axis=alt.Axis(\n",
    "            labelAngle=0,\n",
    "            title=\"Year\",\n",
    "            titleFontSize=14,\n",
    "            titleFontWeight=\"bold\",\n",
    "            titleColor=\"gray\"\n",
    "        )\n",
    "    ),\n",
    "    alt.Y(\n",
    "        \"cited_by_count:Q\",\n",
    "        scale=alt.Scale(type='log'),\n",
    "        axis=alt.Axis(\n",
    "            title=\"Citations\",\n",
    "            titleFontSize=14,\n",
    "            titleFontWeight=\"bold\",\n",
    "            titleColor=\"gray\",\n",
    "        )\n",
    "    ),\n",
    "    alt.Color(\n",
    "        \"name_and_id:N\"\n",
    "    )\n",
    ").properties(\n",
    "    title=\"Citations vs Year\"\n",
    ")\n",
    "display(plot_vitations_vs_year)"
   ]
  },
  {
   "cell_type": "markdown",
   "metadata": {
    "collapsed": false
   },
   "source": [
    "#### Scatter Plot of Citations vs Year\n"
   ]
  },
  {
   "cell_type": "code",
   "execution_count": null,
   "metadata": {
    "ExecuteTime": {
     "end_time": "2024-01-20T17:03:11.950523Z",
     "start_time": "2024-01-20T17:03:11.548658Z"
    },
    "collapsed": false
   },
   "outputs": [],
   "source": [
    "scatter_citations_vs_year = alt.Chart(\n",
    "    author_counts_by_year[\n",
    "        (\n",
    "            author_counts_by_year['cited_by_count'] > 0\n",
    "        ) & (\n",
    "            author_counts_by_year['works_count'] > 0\n",
    "        )]\n",
    ").mark_circle(size=60).encode(\n",
    "    x=alt.X(\n",
    "        'cited_by_count:Q',\n",
    "        scale=alt.Scale(type='log'),\n",
    "        title='Cited by Count (Log Scale)'\n",
    "    ),\n",
    "    y=alt.Y(\n",
    "        'works_count:Q',\n",
    "        scale=alt.Scale(type='log'),\n",
    "        title='Works Count (Log Scale)'\n",
    "    ),\n",
    "    # color='display_name:N',\n",
    "    # color='country_code:N',\n",
    "    color=alt.Color(\n",
    "        'country_code:N',\n",
    "        sort=alt.SortField(\n",
    "            'citation_count',\n",
    "            order='descending'\n",
    "        ),\n",
    "        legend=alt.Legend(\n",
    "            title='Country',\n",
    "            titleFontSize=14,\n",
    "            titleFontWeight='bold',\n",
    "            titleColor='gray',\n",
    "            labelFontSize=14,\n",
    "            labelFontWeight='bold',\n",
    "            labelColor='gray',\n",
    "        )\n",
    "    ),\n",
    "    # color='year:N',\n",
    "    tooltip=[\n",
    "        'display_name',\n",
    "        'year',\n",
    "        'cited_by_count',\n",
    "        'works_count',\n",
    "        \"id\",\n",
    "        \"country_code\"\n",
    "    ]\n",
    ").properties(\n",
    "    title='Relationship between Cited by Count and Works Count'\n",
    ")\n",
    "scatter_citations_vs_year"
   ]
  },
  {
   "cell_type": "markdown",
   "metadata": {
    "collapsed": false
   },
   "source": [
    "## Concepts\n"
   ]
  },
  {
   "cell_type": "markdown",
   "metadata": {
    "collapsed": false
   },
   "source": [
    "### Search for Concepts\n"
   ]
  },
  {
   "cell_type": "code",
   "execution_count": null,
   "metadata": {
    "ExecuteTime": {
     "end_time": "2024-01-20T17:03:12.657565Z",
     "start_time": "2024-01-20T17:03:11.587689Z"
    },
    "collapsed": false
   },
   "outputs": [],
   "source": [
    "concepts = pd.DataFrame(\n",
    "    concepts_api.get_concepts(\n",
    "        search=\"Machine Learning\",\n",
    "        sort=\"relevance_score:desc\",\n",
    "    ).results\n",
    ")\n",
    "display(concepts)"
   ]
  },
  {
   "cell_type": "markdown",
   "metadata": {
    "collapsed": false
   },
   "source": [
    "#### Get top concept from search\n"
   ]
  },
  {
   "cell_type": "code",
   "execution_count": null,
   "metadata": {
    "ExecuteTime": {
     "end_time": "2024-01-20T17:03:12.657943Z",
     "start_time": "2024-01-20T17:03:12.617992Z"
    },
    "collapsed": false
   },
   "outputs": [],
   "source": [
    "machine_learning_concept = concepts.sort_values(\"relevance_score\", ascending=False).iloc[0]\n",
    "display(machine_learning_concept)"
   ]
  },
  {
   "cell_type": "markdown",
   "metadata": {
    "collapsed": false
   },
   "source": [
    "#### Extract raw concept ID\n"
   ]
  },
  {
   "cell_type": "code",
   "execution_count": null,
   "metadata": {
    "ExecuteTime": {
     "end_time": "2024-01-20T17:03:12.658099Z",
     "start_time": "2024-01-20T17:03:12.622120Z"
    },
    "collapsed": false
   },
   "outputs": [],
   "source": [
    "machine_learning_concept_id = machine_learning_concept[\"ids\"][\"openalex\"].split(\"/\")[-1]\n",
    "display(machine_learning_concept_id)"
   ]
  },
  {
   "cell_type": "markdown",
   "metadata": {
    "collapsed": false
   },
   "source": [
    "## Works\n"
   ]
  },
  {
   "cell_type": "markdown",
   "metadata": {
    "collapsed": false
   },
   "source": [
    "### Search for Works by Concept\n"
   ]
  },
  {
   "cell_type": "code",
   "execution_count": null,
   "metadata": {
    "ExecuteTime": {
     "end_time": "2024-01-20T17:03:15.100319Z",
     "start_time": "2024-01-20T17:03:12.628712Z"
    },
    "collapsed": false
   },
   "outputs": [],
   "source": [
    "filters = \",\".join(\n",
    "    [f\"{key}:{value}\" for key, value in {\n",
    "        \"concepts.id\": machine_learning_concept_id,\n",
    "        \"publication_year\": \">1970\"\n",
    "    }.items()]\n",
    ")\n",
    "\n",
    "works = works_api.get_works(\n",
    "    sort=\"cited_by_count:desc\",\n",
    "    filter=filters,\n",
    "    per_page=100,\n",
    ").results\n",
    "\n",
    "display(\n",
    "    pd.DataFrame(\n",
    "        works\n",
    "    )\n",
    ")"
   ]
  },
  {
   "cell_type": "markdown",
   "metadata": {
    "collapsed": false
   },
   "source": [
    "### Get counts by year for each work\n"
   ]
  },
  {
   "cell_type": "code",
   "execution_count": null,
   "metadata": {
    "ExecuteTime": {
     "end_time": "2024-01-20T17:03:15.101134Z",
     "start_time": "2024-01-20T17:03:14.393212Z"
    },
    "collapsed": false
   },
   "outputs": [],
   "source": [
    "works_with_counts_by_year = pd.DataFrame(\n",
    "    [{\n",
    "        \"title\": work[\"title\"],\n",
    "        \"id\": work[\"id\"],\n",
    "        \"publication_year\": work[\"publication_year\"],\n",
    "        \"publication_date\": work[\"publication_date\"],\n",
    "        \"referenced_works_count\": work[\"referenced_works_count\"],\n",
    "        \"cited_by_count_year\": entry[\"year\"],\n",
    "        \"cited_by_count\": entry[\"cited_by_count\"],\n",
    "        \"ratio\": entry[\"cited_by_count\"] / work[\"referenced_works_count\"] if work[\"referenced_works_count\"] else 0,\n",
    "    } for work in works for entry in work[\"counts_by_year\"]],\n",
    ")\n",
    "display(works_with_counts_by_year)"
   ]
  },
  {
   "cell_type": "markdown",
   "metadata": {
    "collapsed": false
   },
   "source": [
    "### Get most recent count for each work\n"
   ]
  },
  {
   "cell_type": "code",
   "execution_count": null,
   "metadata": {
    "ExecuteTime": {
     "end_time": "2024-01-20T17:03:15.101536Z",
     "start_time": "2024-01-20T17:03:14.397718Z"
    },
    "collapsed": false
   },
   "outputs": [],
   "source": [
    "works_with_most_recent_counts_by_year = works_with_counts_by_year.sort_values(\n",
    "    \"cited_by_count_year\",\n",
    "    ascending=False\n",
    ").groupby(\n",
    "    \"id\"\n",
    ").first().reset_index()\n",
    "\n",
    "display(works_with_most_recent_counts_by_year)"
   ]
  },
  {
   "cell_type": "markdown",
   "metadata": {
    "collapsed": false
   },
   "source": [
    "#### Plot Citations vs Year\n"
   ]
  },
  {
   "cell_type": "code",
   "execution_count": null,
   "metadata": {
    "ExecuteTime": {
     "end_time": "2024-01-20T17:03:15.101999Z",
     "start_time": "2024-01-20T17:03:14.407605Z"
    },
    "collapsed": false
   },
   "outputs": [],
   "source": [
    "alt.Chart(\n",
    "    works_with_most_recent_counts_by_year[\n",
    "        (works_with_most_recent_counts_by_year['cited_by_count'] > 0) & (\n",
    "            works_with_most_recent_counts_by_year['referenced_works_count'] > 0)\n",
    "    ]\n",
    ").mark_circle(size=60).encode(\n",
    "    x=alt.X(\n",
    "        \"publication_date:T\",\n",
    "        title=\"Publication Date\"\n",
    "    ),\n",
    "    y=alt.Y(\n",
    "        'cited_by_count:Q',\n",
    "        scale=alt.Scale(\n",
    "            type='log',\n",
    "        ),\n",
    "        title='Citations (Log Scale)'\n",
    "    ),\n",
    "    color=alt.Color(\n",
    "        'ratio:Q',\n",
    "        title='Citations / References',\n",
    "        scale=alt.Scale(\n",
    "            type='log',\n",
    "            scheme='yellowgreenblue',\n",
    "        ),\n",
    "    ),\n",
    "    size=alt.Size(\n",
    "        \"referenced_works_count:Q\",\n",
    "        scale=alt.Scale(\n",
    "            type='log',\n",
    "        ),\n",
    "        title='References (Log Scale)',\n",
    "    ),\n",
    "    # tooltip=[\n",
    "    # \t\"title:N\",\n",
    "    # \t# \"publication_year:N\",\n",
    "    # \t\"publication_date:T\",\n",
    "    # \t\"referenced_works_count:Q\",\n",
    "    # \t\"cited_by_count:Q\",\n",
    "    # \t\"ratio:Q\",\n",
    "    # ],\n",
    "    tooltip=alt.Tooltip(\n",
    "        shorthand=\"title:N\",\n",
    "    )\n",
    ").properties(\n",
    "    title='Citability of Works over Time'\n",
    ")"
   ]
  },
  {
   "cell_type": "markdown",
   "metadata": {
    "collapsed": false
   },
   "source": [
    "## Search for Works\n"
   ]
  },
  {
   "cell_type": "code",
   "execution_count": null,
   "metadata": {
    "ExecuteTime": {
     "end_time": "2024-01-20T17:03:16.616931Z",
     "start_time": "2024-01-20T17:03:14.428480Z"
    },
    "collapsed": false
   },
   "outputs": [],
   "source": [
    "search = \"Machine Learning\"\n",
    "machine_learning_works_search_result = works_api.get_works(\n",
    "    search=search,\n",
    "    sort=\"relevance_score:desc\",\n",
    "    per_page=100,\n",
    ").results\n",
    "display(\n",
    "    pd.DataFrame(\n",
    "        machine_learning_works_search_result\n",
    "    )\n",
    ")"
   ]
  },
  {
   "cell_type": "markdown",
   "metadata": {
    "collapsed": false
   },
   "source": [
    "### Aggregate works over multiple pages\n"
   ]
  },
  {
   "cell_type": "code",
   "execution_count": null,
   "metadata": {
    "ExecuteTime": {
     "end_time": "2024-01-20T17:03:29.663455Z",
     "start_time": "2024-01-20T17:03:16.117709Z"
    },
    "collapsed": false
   },
   "outputs": [],
   "source": [
    "target = 1000\n",
    "page = 1\n",
    "machine_learning_works_search_result = []\n",
    "\n",
    "# \"cited_by_percentile_year.min:90\"\n",
    "# referenced_works_count>0\n",
    "\n",
    "filters = \",\".join(\n",
    "    [f\"{key}:{value}\" for key, value in {\n",
    "        \"referenced_works_count\": \">0\",\n",
    "        \"cited_by_count\": \">0\"\n",
    "    }.items()]\n",
    ")\n",
    "while len(machine_learning_works_search_result) < target:\n",
    "    page_results = works_api.get_works(\n",
    "        search=search,\n",
    "        sort=\"relevance_score:desc\",\n",
    "        page=page,\n",
    "        per_page=100,  # 25 is the default\n",
    "        filter=filters\n",
    "    ).results\n",
    "    machine_learning_works_search_result += page_results\n",
    "\n",
    "    print(\n",
    "        f\"Page {page}: {len(page_results)} results ({\n",
    "            len(machine_learning_works_search_result)} total)\"\n",
    "    )\n",
    "    page += 1\n",
    "\n",
    "display(\n",
    "    pd.DataFrame(\n",
    "        machine_learning_works_search_result\n",
    "    )\n",
    ")"
   ]
  },
  {
   "cell_type": "markdown",
   "metadata": {
    "ExecuteTime": {
     "end_time": "2024-01-20T17:03:29.663885Z",
     "start_time": "2024-01-20T17:03:29.660846Z"
    },
    "collapsed": false
   },
   "source": [
    "# Converting an abstract inverted index\n",
    "\n",
    "```json\n",
    "{\n",
    "\t\"abstract_inverted_index\": {\n",
    "\t\t\"This\": [0, 66],\n",
    "\t\t\"paper\": [1],\n",
    "\t\t\"examines\": [2]\n",
    "\t}\n",
    "}\n",
    "```\n"
   ]
  },
  {
   "cell_type": "code",
   "execution_count": null,
   "metadata": {
    "ExecuteTime": {
     "end_time": "2024-01-20T17:03:30.054719Z",
     "start_time": "2024-01-20T17:03:29.664963Z"
    },
    "collapsed": false
   },
   "outputs": [],
   "source": [
    "# {'The': [0, 74], 'automated': [1], 'categoriza...\n",
    "# function to convert an abstract inverted index back into the abstract\n",
    "# abstract inverted index is a dictionary where the keys are the words in the abstract and the values are a list of the positions of the word in the abstract\n",
    "def convert_inverted_index_to_abstract(inverted_index):\n",
    "    if not inverted_index:\n",
    "        print(\"inverted index is empty\")\n",
    "        return \"\"\n",
    "    sentence_array = []\n",
    "    for word, positions in inverted_index.items():\n",
    "        for position in positions:\n",
    "            # \t\t\tset the word in the abstract to be the word in the inverted index\n",
    "            sentence_array.insert(position, word)\n",
    "    return \" \".join(sentence_array)\n",
    "\n",
    "\n",
    "random_work = works_api.get_work(\n",
    "    id=\"random\"\n",
    ")\n",
    "\n",
    "print(random_work.display_name)\n",
    "print(random_work.id)\n",
    "print(\n",
    "    convert_inverted_index_to_abstract(\n",
    "        random_work.abstract_inverted_index\n",
    "    )\n",
    ")"
   ]
  },
  {
   "cell_type": "markdown",
   "metadata": {
    "collapsed": false
   },
   "source": [
    "## How to use the API\n"
   ]
  },
  {
   "cell_type": "markdown",
   "metadata": {},
   "source": [
    "### [API Overview](https://docs.openalex.org/how-to-use-the-api/api-overview)\n",
    "\n",
    "The API is the primary way to get OpenAlex data. It's free and requires no authentication.\n",
    "The daily limit for API calls is 100,000 requests per user per day.\n",
    "For best performance, add your email to all API requests, like `mailto=example@domain.com`.\n",
    "\n",
    "#### Using the `mailto` parameter to access the `polite pool`\n",
    "\n",
    "```python\n",
    "info_api.get_root(\n",
    "    mailto=\"example@domain.com\"\n",
    ")\n",
    "```\n",
    "\n",
    "Find out more [here](https://docs.openalex.org/how-to-use-the-api/rate-limits-and-authentication#the-polite-pool).\n"
   ]
  },
  {
   "cell_type": "markdown",
   "metadata": {},
   "source": [
    "### [Get single entities](https://docs.openalex.org/how-to-use-the-api/get-single-entities)\n",
    "\n",
    "#### [Random result](https://docs.openalex.org/how-to-use-the-api/get-single-entities/random-result)\n",
    "\n",
    "#### [Select fields](https://docs.openalex.org/how-to-use-the-api/get-single-entities/select-fields)\n",
    "\n",
    "### [Get lists of entities](https://docs.openalex.org/how-to-use-the-api/get-lists-of-entities)\n",
    "\n",
    "#### [Paging](https://docs.openalex.org/how-to-use-the-api/get-lists-of-entities/paging)\n",
    "\n",
    "#### [Filtering](https://docs.openalex.org/how-to-use-the-api/get-lists-of-entities/filter-entity-lists)\n",
    "\n",
    "#### [Searching](https://docs.openalex.org/how-to-use-the-api/get-lists-of-entities/search-entities)\n",
    "\n",
    "#### [Sorting](https://docs.openalex.org/how-to-use-the-api/get-lists-of-entities/sort-entity-lists)\n",
    "\n",
    "#### [Selecting](https://docs.openalex.org/how-to-use-the-api/get-lists-of-entities/select-fields)\n",
    "\n",
    "#### [Sampling](https://docs.openalex.org/how-to-use-the-api/get-lists-of-entities/sample-entity-lists)\n",
    "\n",
    "#### [Autocomplete](https://docs.openalex.org/how-to-use-the-api/get-lists-of-entities/autocomplete-entities)\n",
    "\n",
    "### [Get groups of entities](https://docs.openalex.org/how-to-use-the-api/get-groups-of-entities)\n",
    "\n",
    "### [Rate limits and authentication](https://docs.openalex.org/how-to-use-the-api/rate-limits-and-authentication)\n",
    "\n",
    "### [Tutorials](https://docs.openalex.org/additional-help/tutorials)\n"
   ]
  }
 ],
 "metadata": {
  "colab": {
   "provenance": []
  },
  "kernelspec": {
   "display_name": "Python 3 (ipykernel)",
   "language": "python",
   "name": "python3"
  },
  "language_info": {
   "codemirror_mode": {
    "name": "ipython",
    "version": 3
   },
   "file_extension": ".py",
   "mimetype": "text/x-python",
   "name": "python",
   "nbconvert_exporter": "python",
   "pygments_lexer": "ipython3",
   "version": "3.12.1"
  }
 },
 "nbformat": 4,
 "nbformat_minor": 0
}
