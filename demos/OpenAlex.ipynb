{
 "cells": [
  {
   "cell_type": "markdown",
   "metadata": {
    "collapsed": false
   },
   "source": [
    "# [OpenAlex Python](https://github.com/Mearman/openalex-python) API Example\n",
    "\n",
    "Documentation: https://github.com/Mearman/openalex-python\n"
   ]
  },
  {
   "cell_type": "markdown",
   "metadata": {
    "collapsed": false
   },
   "source": [
    "## Introduction\n",
    "\n",
    "This notebook demonstrates how to use an OpenAlex Python API Client to query the OpenAlex database and generate visualizations.\n",
    "\n",
    "The OpenAlex database is a database of academic publications and their citations.\n",
    "\n",
    "The OpenAlex API is a REST API that allows you to query the OpenAlex database. The Documentation for the API can be found here: https://docs.openalex.org/\n",
    "\n",
    "The OpenAlex Python API Client is a Python package that makes it easier to use the OpenAlex API. The package can be found here: https://github.com/Mearman/openalex-python\n",
    "\n",
    "The specification from which the OpenAlex Python API Client was generated can be found here: https://github.com/Mearman/openalex-api-spec\n",
    "\n",
    "An explorer for the REST API can be found here: https://mearman.github.io/openalex-swagger-ui-react/"
   ]
  },
  {
   "cell_type": "markdown",
   "metadata": {},
   "source": [
    "## [OpenAlex API documentation](https://docs.openalex.org/)\n",
    "\n",
    "### Overview\n",
    "\n",
    "![](https://2520693015-files.gitbook.io/~/files/v0/b/gitbook-x-prod.appspot.com/o/spaces%2FpHVuV3Ib5KXeBKft4Kcl%2Fuploads%2FQnHeDMjZBUI44XSz97TK%2Fopenalex_logo_text_transparent_20240117.png?alt=media&token=00c4f5aa-555b-477a-9ec0-14fe3512d2ea)\n",
    "\n",
    "[**OpenAlex**](https://openalex.org) is a fully open catalog of the global research system. It's named after the [ancient Library of Alexandria](https://en.wikipedia.org/wiki/Library_of_Alexandria) and made by the nonprofit [OurResearch](https://ourresearch.org/).\n",
    "\n",
    "This is the technical documentation for the **OpenAlex API.** Here, you can learn how to set up your code to access OpenAlex's data. If you want to explore the data as a human, you may be more interested in [**OpenAlex Web**](https://help.openalex.org)**.**\n",
    "\n",
    "### Data[](https://docs.openalex.org//#data)\n",
    "\n",
    "The OpenAlex dataset describes scholarly [_entities_](https://docs.openalex.org/api-entities/entities-overview) and how those entities are connected to each other. Types of entities include [works](https://docs.openalex.org/api-entities/works), [authors](https://docs.openalex.org/api-entities/authors), [sources](https://docs.openalex.org/api-entities/sources), [institutions](https://docs.openalex.org/api-entities/institutions), [concepts](https://docs.openalex.org/api-entities/concepts), [publishers](https://docs.openalex.org/api-entities/publishers), and [funders](https://docs.openalex.org/api-entities/funders).\n",
    "\n",
    "Together, these make a huge web (or more technically, heterogeneous directed [graph](https://en.wikipedia.org/wiki/Graph_theory)) of hundreds of millions of entities and billions of connections between them all.\n",
    "\n",
    "### Access[](https://docs.openalex.org//#access)\n",
    "\n",
    "The API is the primary way to get OpenAlex data. It's free and requires no authentication. The daily limit for API calls is 100,000 requests per user per day. For best performance, [add your email](https://docs.openalex.org/how-to-use-the-api/rate-limits-and-authentication#the-polite-pool) to all API requests, like `mailto=example@domain.com`. [Learn more](https://docs.openalex.org/how-to-use-the-api/api-overview)\n",
    "\n",
    "There is also a complete database snapshot available to download. [Learn more about the data snapshot here.](https://docs.openalex.org/download-all-data/openalex-snapshot)\n",
    "\n",
    "The API has a limit of 100,000 calls per day, and the snapshot is updated monthly. If you need a higher limit, or more frequent updates, please look into [**OpenAlex Premium.**](https://openalex.org/pricing)\n",
    "\n",
    "The web interface for OpenAlex is currently in development, with a beta launch coming in late 2023. [Sign up to be notified about the launch here.](https://forms.gle/NDoXAQVKGQLpkF5U8)\n",
    "\n",
    "### Why OpenAlex?[](https://docs.openalex.org//#why-openalex)\n",
    "\n",
    "OpenAlex offers an open replacement for industry-standard scientific knowledge bases like Elsevier's Scopus and Clarivate's Web of Science. [Compared to](https://openalex.org/about#comparison) these paywalled services, OpenAlex offers significant advantages in terms of inclusivity, affordability, and avaliability.\n",
    "\n",
    "OpenAlex is:\n",
    "\n",
    "- _Big —_ We have about twice the coverage of the other services, and have significantly better coverage of non-English works and works from the Global South.\n",
    "\n",
    "- _Easy —_ Our service is fast, modern, and well-documented.\n",
    "\n",
    "- _Open —_ Our complete dataset is free under the CC0 license, which allows for transparency and reuse.\n",
    "\n",
    "Many people and organizations have already found great value using OpenAlex. Have a look at the [Testimonials](https://openalex.org/testimonials) to hear what they've said!\n",
    "\n",
    "### Contact[](https://docs.openalex.org//#contact)\n",
    "\n",
    "For tech support and bug reports, please visit our [help page](https://openalex.org/help). You can also join the [OpenAlex user group](https://groups.google.com/g/openalex-users), and follow us on [Twitter (@OpenAlex_org)](https://twitter.com/openalex_org) and [Mastodon](https://mastodon.social/@OpenAlex).\n",
    "\n",
    "### Citation[](https://docs.openalex.org//#citation)\n",
    "\n",
    "If you use OpenAlex in research, please cite [this paper](https://arxiv.org/abs/2205.01833):\n",
    "\n",
    "> Priem, J., Piwowar, H., & Orr, R. (2022). _OpenAlex: A fully-open index of scholarly works, authors, venues, institutions, and concepts_. ArXiv. https://arxiv.org/abs/2205.01833\n"
   ]
  },
  {
   "cell_type": "markdown",
   "metadata": {},
   "source": [
    "## [Entities](https://docs.openalex.org/)\n",
    "\n",
    "The OpenAlex dataset describes scholarly _entities_ and how those entities are connected to each other. Together, these make a huge web (or more technically, heterogeneous directed [graph](https://en.wikipedia.org/wiki/Graph_theory)) of hundreds of millions of entities and billions of connections between them all.\n",
    "\n",
    "---\n",
    "\n",
    "```mermaid\n",
    "%%{\n",
    "  init: {\n",
    "\t'flowchart' : {\n",
    "\t\t'curve' : ''\n",
    "\t},\n",
    "\t'theme': 'neutral'\n",
    "  }\n",
    "}%%\n",
    "\n",
    "graph BT\n",
    "\tAuthors([Authors])\n",
    "\tConcepts([Concepts])\n",
    "\tFunders([Funders])\n",
    "\tInstitutions([Institutions])\n",
    "\tPublishers([Publishers])\n",
    "\tSources([Sources])\n",
    "\tWorks([Works])\n",
    "\n",
    "\tauthorships{{authorships}}\n",
    "\tgrants{{grants}}\n",
    "\tlocations{{locations}}\n",
    "\n",
    "\tAuthors --> authorships\n",
    "\tauthorships --> Works\n",
    "\tConcepts --> Works\n",
    "\tFunders --> grants\n",
    "\tgrants --> Works\n",
    "\tInstitutions --> authorships\n",
    "\tlocations --> Works\n",
    "\tPublishers --> Sources\n",
    "\tSources --> locations\n",
    "\n",
    "\tclassDef link color:white,fill:transparent,stroke:grey,stroke-width:2px;\n",
    "\tclass locations,grants,authorships link;\n",
    "```\n",
    "\n",
    "<!-- <figure><img src=\"https://raw.githubusercontent.com/ourresearch/openalex-docs/main/.gitbook/assets/entities.png\" alt=\"Entity relation diagram for OpenAlex\"><figcaption></figcaption></figure> -->\n",
    "\n",
    "---\n",
    "\n",
    "Learn more about the OpenAlex entities:\n",
    "\n",
    "- [Works](https://docs.openalex.org/api-entities/works): Scholarly documents like journal articles, books, datasets, and theses\n",
    "- [Authors](https://docs.openalex.org/api-entities/authors): People who create works\n",
    "- [Sources](https://docs.openalex.org/api-entities/sources): Where works are hosted (such as journals, conferences, and repositories)\n",
    "- [Institutions](https://docs.openalex.org/api-entities/institutions): Universities and other organizations to which authors claim affiliations\n",
    "- [Concepts](https://docs.openalex.org/api-entities/concepts): Topics assigned to works\n",
    "- [Publishers](https://docs.openalex.org/api-entities/publishers): Companies and organizations that distribute works\n",
    "- [Funders](https://docs.openalex.org/api-entities/funders): Organizations that fund research\n",
    "- [Geo](https://docs.openalex.org/api-entities/geo): Where things are in the world\n"
   ]
  },
  {
   "cell_type": "markdown",
   "metadata": {},
   "source": [
    "## [OpenAlex API Python Client](https://github.com/Mearman/openalex-python)\n",
    "This is a Python client for the OpenAlex API. It was generated from the reverse-engineered [OpenAlex API specification](https://github.com/Mearman/openalex-api-spec).\n",
    "\n",
    "It is in no way affiliated with OpenAlex or OurResearch and is not an official OpenAlex product. It is an open-source project maintained by [Joseph Mearman](https://github.com/Mearman) and is supplied as-is with no warranty.\n",
    "\n",
    "For any questions or issues, please [open an issue](https://github.com/Mearman/openalex-api-spec/issues/new).\n",
    "\n",
    "To contribute, please fork and [open a pull request](https://github.com/Mearman/openalex-api-spec/compare).\n",
    "\n",
    "If you have found the OpenAlex data useful, don't forget to cite the [OpenAlex paper](https://arxiv.org/abs/2205.01833)."
   ]
  },
  {
   "cell_type": "markdown",
   "metadata": {
    "collapsed": false
   },
   "source": [
    "## Setup"
   ]
  },
  {
   "cell_type": "code",
   "execution_count": null,
   "metadata": {
    "colab": {
     "base_uri": "https://localhost:8080/"
    },
    "id": "XSj5sJdztUc5",
    "outputId": "2d6e6f8b-691f-4988-8c53-b6fab18e87f2"
   },
   "outputs": [],
   "source": [
    "%%bash\n",
    "pip install --upgrade pip\n",
    "pip install --upgrade --no-cache-dir \"git+https://github.com/Mearman/openalex-python.git\"\n",
    "pip install pandas altair tabulate matplotlib seaborn"
   ]
  },
  {
   "cell_type": "code",
   "execution_count": null,
   "metadata": {
    "id": "km3fpxeJtUc6"
   },
   "outputs": [],
   "source": [
    "import altair as alt\n",
    "import pandas as pd\n",
    "\n",
    "import openalex_api"
   ]
  },
  {
   "cell_type": "code",
   "execution_count": null,
   "metadata": {
    "id": "Yn8HG-zXtUc6"
   },
   "outputs": [],
   "source": [
    "configuration = openalex_api.Configuration(\n",
    "\thost=\"https://api.openalex.org\"\n",
    ")"
   ]
  },
  {
   "cell_type": "code",
   "execution_count": null,
   "metadata": {
    "id": "Fz4SLH_ptUc7"
   },
   "outputs": [],
   "source": [
    "authors_api = openalex_api.AuthorsApi(openalex_api.ApiClient(configuration))\n",
    "works_api = openalex_api.WorksApi(openalex_api.ApiClient(configuration))\n",
    "concepts_api = openalex_api.ConceptsApi(openalex_api.ApiClient(configuration))\n",
    "institutions_api = openalex_api.InstitutionsApi(openalex_api.ApiClient(configuration))\n",
    "sources_api = openalex_api.SourcesApi(openalex_api.ApiClient(configuration))\n",
    "publishers_api = openalex_api.PublishersApi(openalex_api.ApiClient(configuration))\n",
    "funders_api = openalex_api.FundersApi(openalex_api.ApiClient(configuration))"
   ]
  },
  {
   "cell_type": "markdown",
   "metadata": {},
   "source": [
    "# Getting Started"
   ]
  },
  {
   "cell_type": "markdown",
   "metadata": {
    "collapsed": false
   },
   "source": [
    "## Authors\n"
   ]
  },
  {
   "cell_type": "code",
   "execution_count": null,
   "metadata": {
    "collapsed": false
   },
   "outputs": [],
   "source": [
    "authors = authors_api.get_authors(\n",
    "\tper_page=100,\n",
    "\tpage=1,\n",
    "\tsort=\"cited_by_count:desc\"\n",
    ").results\n",
    "display(pd.DataFrame(authors))"
   ]
  },
  {
   "cell_type": "markdown",
   "metadata": {
    "collapsed": false
   },
   "source": [
    "### Author Counts by Year\n"
   ]
  },
  {
   "cell_type": "code",
   "execution_count": null,
   "metadata": {
    "collapsed": false
   },
   "outputs": [],
   "source": [
    "author_counts_by_year = pd.DataFrame(\n",
    "\t[{\n",
    "\t\t\"display_name\": author[\"display_name\"],\n",
    "\t\t\"id\": author[\"ids\"][\"openalex\"].split(\"/\")[-1],\n",
    "\t\t\"country_code\": author[\"last_known_institution\"][\"country_code\"] if author[\"last_known_institution\"] else None,\n",
    "\t\t\"year\": entry[\"year\"],\n",
    "\t\t\"cited_by_count\": entry[\"cited_by_count\"],\n",
    "\t\t\"works_count\": entry[\"works_count\"],\n",
    "\t\t\"name_and_id\": f\"{author['display_name']} ({author['ids']['openalex'].split('/')[-1]})\",\n",
    "\t} for author in authors for entry in author[\"counts_by_year\"]],\n",
    ")\n",
    "display(author_counts_by_year)"
   ]
  },
  {
   "cell_type": "markdown",
   "metadata": {
    "collapsed": false
   },
   "source": [
    "#### Filter out current year\n"
   ]
  },
  {
   "cell_type": "code",
   "execution_count": null,
   "metadata": {
    "collapsed": false
   },
   "outputs": [],
   "source": [
    "# filter out current year\n",
    "author_counts_by_year = author_counts_by_year[author_counts_by_year[\"year\"] < 2024]"
   ]
  },
  {
   "cell_type": "markdown",
   "metadata": {
    "collapsed": false
   },
   "source": [
    "#### Plot Citations vs Year\n"
   ]
  },
  {
   "cell_type": "code",
   "execution_count": null,
   "metadata": {
    "collapsed": false
   },
   "outputs": [],
   "source": [
    "# plot with altair, marking each year on the x axis\n",
    "plot_vitations_vs_year = alt.Chart(\n",
    "\tauthor_counts_by_year[\n",
    "\t\t# \tfilter out zero values\n",
    "\t\t(author_counts_by_year[\"cited_by_count\"] > 0) & (\n",
    "\t\t\tauthor_counts_by_year[\"works_count\"] > 0)\n",
    "\t\t]\n",
    ").mark_line().encode(\n",
    "\talt.X(\n",
    "\t\t\"year:O\",\n",
    "\t\taxis=alt.Axis(\n",
    "\t\t\tlabelAngle=0,\n",
    "\t\t\ttitle=\"Year\",\n",
    "\t\t\ttitleFontSize=14,\n",
    "\t\t\ttitleFontWeight=\"bold\",\n",
    "\t\t\ttitleColor=\"gray\"\n",
    "\t\t)\n",
    "\t),\n",
    "\talt.Y(\n",
    "\t\t\"cited_by_count:Q\",\n",
    "\t\tscale=alt.Scale(type='log'),\n",
    "\t\taxis=alt.Axis(\n",
    "\t\t\ttitle=\"Citations\",\n",
    "\t\t\ttitleFontSize=14,\n",
    "\t\t\ttitleFontWeight=\"bold\",\n",
    "\t\t\ttitleColor=\"gray\",\n",
    "\t\t)\n",
    "\t),\n",
    "\talt.Color(\n",
    "\t\t\"name_and_id:N\"\n",
    "\t)\n",
    ").properties(\n",
    "\ttitle=\"Citations vs Year\"\n",
    ")\n",
    "display(plot_vitations_vs_year)"
   ]
  },
  {
   "cell_type": "markdown",
   "metadata": {
    "collapsed": false
   },
   "source": [
    "#### Scatter Plot of Citations vs Year\n"
   ]
  },
  {
   "cell_type": "code",
   "execution_count": null,
   "metadata": {
    "collapsed": false
   },
   "outputs": [],
   "source": [
    "scatter_citations_vs_year = alt.Chart(\n",
    "\tauthor_counts_by_year[\n",
    "\t\t(\n",
    "\t\t\tauthor_counts_by_year['cited_by_count'] > 0\n",
    "\t\t) & (\n",
    "\t\t\tauthor_counts_by_year['works_count'] > 0\n",
    "\t\t)]\n",
    ").mark_circle(size=60).encode(\n",
    "\tx=alt.X(\n",
    "\t\t'cited_by_count:Q',\n",
    "\t\tscale=alt.Scale(type='log'),\n",
    "\t\ttitle='Cited by Count (Log Scale)'\n",
    "\t),\n",
    "\ty=alt.Y(\n",
    "\t\t'works_count:Q',\n",
    "\t\tscale=alt.Scale(type='log'),\n",
    "\t\ttitle='Works Count (Log Scale)'\n",
    "\t),\n",
    "\t# color='display_name:N',\n",
    "\t# color='country_code:N',\n",
    "\tcolor=alt.Color(\n",
    "\t\t'country_code:N',\n",
    "\t\tsort=alt.SortField(\n",
    "\t\t\t'citation_count',\n",
    "\t\t\torder='descending'\n",
    "\t\t),\n",
    "\t\tlegend=alt.Legend(\n",
    "\t\t\ttitle='Country',\n",
    "\t\t\ttitleFontSize=14,\n",
    "\t\t\ttitleFontWeight='bold',\n",
    "\t\t\ttitleColor='gray',\n",
    "\t\t\tlabelFontSize=14,\n",
    "\t\t\tlabelFontWeight='bold',\n",
    "\t\t\tlabelColor='gray',\n",
    "\t\t)\n",
    "\t),\n",
    "\t# color='year:N',\n",
    "\ttooltip=[\n",
    "\t\t'display_name',\n",
    "\t\t'year',\n",
    "\t\t'cited_by_count',\n",
    "\t\t'works_count',\n",
    "\t\t\"id\",\n",
    "\t\t\"country_code\"\n",
    "\t]\n",
    ").properties(\n",
    "\ttitle='Relationship between Cited by Count and Works Count'\n",
    ")\n",
    "scatter_citations_vs_year"
   ]
  },
  {
   "cell_type": "markdown",
   "metadata": {
    "collapsed": false
   },
   "source": [
    "## Concepts\n"
   ]
  },
  {
   "cell_type": "markdown",
   "metadata": {
    "collapsed": false
   },
   "source": [
    "### Search for Concepts\n"
   ]
  },
  {
   "cell_type": "code",
   "execution_count": null,
   "metadata": {
    "collapsed": false
   },
   "outputs": [],
   "source": [
    "concepts = pd.DataFrame(\n",
    "\tconcepts_api.get_concepts(\n",
    "\t\tsearch=\"Machine Learning\",\n",
    "\t\tsort=\"relevance_score:desc\",\n",
    "\t).results\n",
    ")\n",
    "display(concepts)"
   ]
  },
  {
   "cell_type": "markdown",
   "metadata": {
    "collapsed": false
   },
   "source": [
    "#### Get top concept from search\n"
   ]
  },
  {
   "cell_type": "code",
   "execution_count": null,
   "metadata": {
    "collapsed": false
   },
   "outputs": [],
   "source": [
    "machine_learning_concept = concepts.sort_values(\"relevance_score\", ascending=False).iloc[0]\n",
    "display(machine_learning_concept)"
   ]
  },
  {
   "cell_type": "markdown",
   "metadata": {
    "collapsed": false
   },
   "source": [
    "#### Extract raw concept ID\n"
   ]
  },
  {
   "cell_type": "code",
   "execution_count": null,
   "metadata": {
    "collapsed": false
   },
   "outputs": [],
   "source": [
    "machine_learning_concept_id = machine_learning_concept[\"ids\"][\"openalex\"].split(\"/\")[-1]\n",
    "display(machine_learning_concept_id)"
   ]
  },
  {
   "cell_type": "markdown",
   "metadata": {
    "collapsed": false
   },
   "source": [
    "## Works\n"
   ]
  },
  {
   "cell_type": "markdown",
   "metadata": {
    "collapsed": false
   },
   "source": [
    "### Search for Works by Concept\n"
   ]
  },
  {
   "cell_type": "code",
   "execution_count": null,
   "metadata": {
    "collapsed": false
   },
   "outputs": [],
   "source": [
    "filters = \",\".join(\n",
    "\t[f\"{key}:{value}\" for key, value in {\n",
    "\t\t\"concepts.id\": machine_learning_concept_id,\n",
    "\t\t\"publication_year\": \">1970\"\n",
    "\t}.items()]\n",
    ")\n",
    "\n",
    "works = works_api.get_works(\n",
    "\tsort=\"cited_by_count:desc\",\n",
    "\tfilter=filters,\n",
    "\tper_page=100,\n",
    ").results\n",
    "\n",
    "display(\n",
    "\tpd.DataFrame(\n",
    "\t\tworks\n",
    "\t)\n",
    ")"
   ]
  },
  {
   "cell_type": "markdown",
   "metadata": {
    "collapsed": false
   },
   "source": [
    "### Get counts by year for each work\n"
   ]
  },
  {
   "cell_type": "code",
   "execution_count": null,
   "metadata": {
    "collapsed": false
   },
   "outputs": [],
   "source": [
    "works_with_counts_by_year = pd.DataFrame(\n",
    "\t[{\n",
    "\t\t\"title\": work[\"title\"],\n",
    "\t\t\"id\": work[\"id\"],\n",
    "\t\t\"publication_year\": work[\"publication_year\"],\n",
    "\t\t\"publication_date\": work[\"publication_date\"],\n",
    "\t\t\"referenced_works_count\": work[\"referenced_works_count\"],\n",
    "\t\t\"cited_by_count_year\": entry[\"year\"],\n",
    "\t\t\"cited_by_count\": entry[\"cited_by_count\"],\n",
    "\t\t\"ratio\": entry[\"cited_by_count\"] / work[\"referenced_works_count\"] if work[\"referenced_works_count\"] else 0,\n",
    "\t} for work in works for entry in work[\"counts_by_year\"]],\n",
    ")\n",
    "display(works_with_counts_by_year)"
   ]
  },
  {
   "cell_type": "markdown",
   "metadata": {
    "collapsed": false
   },
   "source": [
    "### Get most recent count for each work\n"
   ]
  },
  {
   "cell_type": "code",
   "execution_count": null,
   "metadata": {
    "collapsed": false
   },
   "outputs": [],
   "source": [
    "works_with_most_recent_counts_by_year = works_with_counts_by_year.sort_values(\n",
    "\t\"cited_by_count_year\",\n",
    "\tascending=False\n",
    ").groupby(\n",
    "\t\"id\"\n",
    ").first().reset_index()\n",
    "\n",
    "display(works_with_most_recent_counts_by_year)"
   ]
  },
  {
   "cell_type": "markdown",
   "metadata": {
    "collapsed": false
   },
   "source": [
    "#### Plot Citations vs Year\n"
   ]
  },
  {
   "cell_type": "code",
   "execution_count": null,
   "metadata": {
    "collapsed": false
   },
   "outputs": [],
   "source": [
    "alt.Chart(\n",
    "\tworks_with_most_recent_counts_by_year[\n",
    "\t\t(works_with_most_recent_counts_by_year['cited_by_count'] > 0) & (\n",
    "\t\t\tworks_with_most_recent_counts_by_year['referenced_works_count'] > 0)\n",
    "\t\t]\n",
    ").mark_circle(size=60).encode(\n",
    "\tx=alt.X(\n",
    "\t\t\"publication_date:T\",\n",
    "\t\ttitle=\"Publication Date\"\n",
    "\t),\n",
    "\ty=alt.Y(\n",
    "\t\t'cited_by_count:Q',\n",
    "\t\tscale=alt.Scale(\n",
    "\t\t\ttype='log',\n",
    "\t\t),\n",
    "\t\ttitle='Citations (Log Scale)'\n",
    "\t),\n",
    "\tcolor=alt.Color(\n",
    "\t\t'ratio:Q',\n",
    "\t\ttitle='Citations / References',\n",
    "\t\tscale=alt.Scale(\n",
    "\t\t\ttype='log',\n",
    "\t\t\tscheme='yellowgreenblue',\n",
    "\t\t),\n",
    "\t),\n",
    "\tsize=alt.Size(\n",
    "\t\t\"referenced_works_count:Q\",\n",
    "\t\tscale=alt.Scale(\n",
    "\t\t\ttype='log',\n",
    "\t\t),\n",
    "\t\ttitle='References (Log Scale)',\n",
    "\t),\n",
    "\t# tooltip=[\n",
    "\t# \t\"title:N\",\n",
    "\t# \t# \"publication_year:N\",\n",
    "\t# \t\"publication_date:T\",\n",
    "\t# \t\"referenced_works_count:Q\",\n",
    "\t# \t\"cited_by_count:Q\",\n",
    "\t# \t\"ratio:Q\",\n",
    "\t# ],\n",
    "\ttooltip=alt.Tooltip(\n",
    "\t\tshorthand=\"title:N\",\n",
    "\t)\n",
    ").properties(\n",
    "\ttitle='Citability of Works over Time'\n",
    ")"
   ]
  },
  {
   "cell_type": "markdown",
   "metadata": {
    "collapsed": false
   },
   "source": [
    "## Search for Works\n"
   ]
  },
  {
   "cell_type": "code",
   "execution_count": null,
   "metadata": {
    "collapsed": false
   },
   "outputs": [],
   "source": [
    "search = \"Machine Learning\"\n",
    "machine_learning_works_search_result = works_api.get_works(\n",
    "\tsearch=search,\n",
    "\tsort=\"relevance_score:desc\",\n",
    "\tper_page=100,\n",
    ").results\n",
    "display(\n",
    "\tpd.DataFrame(\n",
    "\t\tmachine_learning_works_search_result\n",
    "\t)\n",
    ")"
   ]
  },
  {
   "cell_type": "markdown",
   "metadata": {
    "collapsed": false
   },
   "source": [
    "### Aggregate works over multiple pages\n"
   ]
  },
  {
   "cell_type": "code",
   "execution_count": null,
   "metadata": {
    "collapsed": false
   },
   "outputs": [],
   "source": [
    "target = 1000\n",
    "page = 1\n",
    "machine_learning_works_search_result = []\n",
    "\n",
    "# \"cited_by_percentile_year.min:90\"\n",
    "# referenced_works_count>0\n",
    "\n",
    "filters = \",\".join(\n",
    "\t[f\"{key}:{value}\" for key, value in {\n",
    "\t\t\"referenced_works_count\": \">0\",\n",
    "\t\t\"cited_by_count\": \">0\"\n",
    "\t}.items()]\n",
    ")\n",
    "while len(machine_learning_works_search_result) < target:\n",
    "\tpage_results = works_api.get_works(\n",
    "\t\tsearch=search,\n",
    "\t\tsort=\"relevance_score:desc\",\n",
    "\t\tpage=page,\n",
    "\t\tper_page=100,  # 25 is the default\n",
    "\t\tfilter=filters\n",
    "\t).results\n",
    "\tmachine_learning_works_search_result += page_results\n",
    "\n",
    "\tprint(\n",
    "\t\tf\"Page {page}: {len(page_results)} results ({\n",
    "\t\tlen(machine_learning_works_search_result)} total)\"\n",
    "\t)\n",
    "\tpage += 1\n",
    "\n",
    "display(\n",
    "\tpd.DataFrame(\n",
    "\t\tmachine_learning_works_search_result\n",
    "\t)\n",
    ")"
   ]
  },
  {
   "cell_type": "code",
   "execution_count": null,
   "metadata": {
    "collapsed": false
   },
   "outputs": [],
   "source": [
    "# Converting an abstract inverted index"
   ]
  },
  {
   "cell_type": "markdown",
   "metadata": {
    "collapsed": false
   },
   "source": [
    "```json\n",
    "{\n",
    "\t\"abstract_inverted_index\": {\n",
    "\t\t\"This\": [0, 66],\n",
    "\t\t\"paper\": [1],\n",
    "\t\t\"examines\": [2]\n",
    "\t}\n",
    "}\n",
    "```\n"
   ]
  },
  {
   "cell_type": "code",
   "execution_count": null,
   "metadata": {
    "collapsed": false
   },
   "outputs": [],
   "source": [
    "# {'The': [0, 74], 'automated': [1], 'categoriza...\n",
    "# function to convert an abstract inverted index back into the abstract\n",
    "# abstract inverted index is a dictionary where the keys are the words in the abstract and the values are a list of the positions of the word in the abstract\n",
    "def convert_inverted_index_to_abstract(inverted_index):\n",
    "\tif not inverted_index:\n",
    "\t\tprint(\"inverted index is empty\")\n",
    "\t\treturn \"\"\n",
    "\tsentence_array = []\n",
    "\tfor word, positions in inverted_index.items():\n",
    "\t\tfor position in positions:\n",
    "\t\t\t# \t\t\tset the word in the abstract to be the word in the inverted index\n",
    "\t\t\tsentence_array.insert(position, word)\n",
    "\treturn \" \".join(sentence_array)\n",
    "\n",
    "\n",
    "random_work = works_api.get_work(\n",
    "\tid=\"random\"\n",
    ")\n",
    "\n",
    "print(random_work.display_name)\n",
    "print(random_work.id)\n",
    "print(\n",
    "\tconvert_inverted_index_to_abstract(\n",
    "\t\trandom_work.abstract_inverted_index\n",
    "\t)\n",
    ")"
   ]
  },
  {
   "cell_type": "markdown",
   "metadata": {
    "collapsed": false
   },
   "source": []
  }
 ],
 "metadata": {
  "colab": {
   "provenance": []
  },
  "kernelspec": {
   "display_name": "Python 3 (ipykernel)",
   "language": "python",
   "name": "python3"
  },
  "language_info": {
   "codemirror_mode": {
    "name": "ipython",
    "version": 3
   },
   "file_extension": ".py",
   "mimetype": "text/x-python",
   "name": "python",
   "nbconvert_exporter": "python",
   "pygments_lexer": "ipython3",
   "version": "3.12.1"
  }
 },
 "nbformat": 4,
 "nbformat_minor": 0
}
