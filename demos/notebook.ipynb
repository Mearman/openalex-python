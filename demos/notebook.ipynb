{
  "cells": [
    {
      "cell_type": "code",
      "execution_count": null,
      "metadata": {
        "colab": {
          "base_uri": "https://localhost:8080/"
        },
        "id": "-ZGb-W1CBcm_",
        "outputId": "967abeb6-ec6c-44e8-dad2-8d1de9c619d8"
      },
      "outputs": [],
      "source": [
        "%pip install git+https://github.com/Mearman/openalex-python.git"
      ]
    },
    {
      "cell_type": "code",
      "execution_count": null,
      "metadata": {
        "colab": {
          "base_uri": "https://localhost:8080/"
        },
        "id": "MfWzIvSBCNtI",
        "outputId": "4ba27328-ddee-4747-e4cd-b167b3b8ef0a"
      },
      "outputs": [],
      "source": [
        "\n",
        "import time\n",
        "import mearman_openalex_api\n",
        "from mearman_openalex_api.rest import ApiException\n",
        "from pprint import pprint\n",
        "\n",
        "# Defining the host is optional and defaults to https://api.openalex.org\n",
        "# See configuration.py for a list of all supported configuration parameters.\n",
        "configuration = mearman_openalex_api.Configuration(\n",
        "    host=\"https://api.openalex.org\"\n",
        ")\n",
        "\n",
        "# Enter a context with an instance of the API client\n",
        "with mearman_openalex_api.ApiClient(configuration) as api_client:\n",
        "    # Create an instance of the API class\n",
        "    api_instance = mearman_openalex_api.AuthorsApi(api_client)\n",
        "    mailto = None\n",
        "\n",
        "    try:\n",
        "        # Get Authors\n",
        "        api_response = api_instance.get_authors(\n",
        "            mailto=mailto\n",
        "        )\n",
        "        print(\"The response of AuthorsApi->get_authors:\\n\")\n",
        "        pprint(api_response)\n",
        "    except ApiException as e:\n",
        "        print(\"Exception when calling AuthorsApi->get_author: %s\\n\" % e)"
      ]
    },
    {
      "cell_type": "markdown",
      "metadata": {
        "id": "rJAaI8_tCNic"
      },
      "source": []
    }
  ],
  "metadata": {
    "colab": {
      "provenance": []
    },
    "kernelspec": {
      "display_name": "Python 3",
      "name": "python3"
    },
    "language_info": {
      "name": "python",
      "version": "3.12.1"
    }
  },
  "nbformat": 4,
  "nbformat_minor": 0
}
